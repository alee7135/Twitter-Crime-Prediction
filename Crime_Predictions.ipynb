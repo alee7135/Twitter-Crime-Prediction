{
 "cells": [
  {
   "cell_type": "code",
   "execution_count": 1,
   "metadata": {
    "collapsed": false,
    "scrolled": true
   },
   "outputs": [],
   "source": [
    "import pandas as pd\n",
    "import json\n",
    "import matplotlib.pyplot as plt\n",
    "import time\n",
    "import tweepy\n",
    "import re\n",
    "import operator\n",
    "import string\n",
    "import emoji\n",
    "import time\n",
    "import jsonpickle\n",
    "from datetime import datetime\n",
    "from dateutil import tz\n",
    "from collections import Counter, defaultdict\n",
    "from nltk.tokenize import word_tokenize\n",
    "from nltk.tokenize import TweetTokenizer\n",
    "from nltk.corpus import stopwords\n",
    "from nltk import bigrams\n",
    "from tweepy import OAuthHandler\n",
    "from tweepy import Stream\n",
    "from tweepy.streaming import StreamListener\n",
    "%matplotlib inline"
   ]
  },
  {
   "cell_type": "code",
   "execution_count": 54,
   "metadata": {
    "collapsed": false
   },
   "outputs": [],
   "source": [
    "# Read in json file with stored api keys stored on local drive\n",
    "def load_apikeys(filepath):\n",
    "    '''\n",
    "    Input: filepath where your personal twitter keys are stored\n",
    "    Output: keys dictionary\n",
    "    '''\n",
    "    with open(filepath) as key_file:\n",
    "        keys = json.load(key_file)\n",
    "    return keys\n",
    "keys = load_apikeys('../twitter_keys.json')"
   ]
  },
  {
   "cell_type": "markdown",
   "metadata": {},
   "source": [
    "## Streaming API"
   ]
  },
  {
   "cell_type": "code",
   "execution_count": 3,
   "metadata": {
    "collapsed": true
   },
   "outputs": [
    {
     "name": "stdout",
     "output_type": "stream",
     "text": [
      "Downloading tweets with Streaming API... \n",
      "Downloaded: 1 tweets\n",
      "Downloaded: 2 tweets\n",
      "Downloaded: 3 tweets\n",
      "Downloaded: 4 tweets\n",
      "Downloaded: 5 tweets\n",
      "Downloaded: 6 tweets\n",
      "Downloaded: 7 tweets\n",
      "Downloaded: 8 tweets\n",
      "Downloaded: 9 tweets\n",
      "Downloaded: 10 tweets\n",
      "Downloaded: 11 tweets\n",
      "Downloaded: 12 tweets\n",
      "Downloaded: 13 tweets\n",
      "Downloaded: 14 tweets\n",
      "Downloaded: 15 tweets\n",
      "Downloaded: 16 tweets\n",
      "Downloaded: 17 tweets\n",
      "Downloaded: 18 tweets\n",
      "Downloaded: 19 tweets\n",
      "Downloaded: 20 tweets\n",
      "Downloaded: 21 tweets\n",
      "Downloaded: 22 tweets\n",
      "Downloaded: 23 tweets\n",
      "Downloaded: 24 tweets\n",
      "Downloaded: 25 tweets\n",
      "Downloaded: 26 tweets\n",
      "Downloaded: 27 tweets\n",
      "Downloaded: 28 tweets\n",
      "Downloaded: 29 tweets\n",
      "Downloaded: 30 tweets\n"
     ]
    },
    {
     "ename": "KeyboardInterrupt",
     "evalue": "",
     "output_type": "error",
     "traceback": [
      "\u001b[0;31m---------------------------------------------------------------------------\u001b[0m",
      "\u001b[0;31mKeyboardInterrupt\u001b[0m                         Traceback (most recent call last)",
      "\u001b[0;32m<ipython-input-3-b7a596378682>\u001b[0m in \u001b[0;36m<module>\u001b[0;34m()\u001b[0m\n\u001b[1;32m     48\u001b[0m \u001b[0;31m# begin capturing Twitter Streams by keywords but in this case, I left track blank\u001b[0m\u001b[0;34m\u001b[0m\u001b[0;34m\u001b[0m\u001b[0m\n\u001b[1;32m     49\u001b[0m \u001b[0;32mprint\u001b[0m \u001b[0;34m\"Downloading tweets with Streaming API... \"\u001b[0m\u001b[0;34m\u001b[0m\u001b[0m\n\u001b[0;32m---> 50\u001b[0;31m \u001b[0mstream\u001b[0m\u001b[0;34m.\u001b[0m\u001b[0mfilter\u001b[0m\u001b[0;34m(\u001b[0m\u001b[0mstall_warnings\u001b[0m\u001b[0;34m=\u001b[0m\u001b[0mTrue\u001b[0m\u001b[0;34m,\u001b[0m \u001b[0mlocations\u001b[0m\u001b[0;34m=\u001b[0m\u001b[0;34m[\u001b[0m\u001b[0;34m-\u001b[0m\u001b[0;36m118.9448\u001b[0m\u001b[0;34m,\u001b[0m \u001b[0;36m32.8007\u001b[0m\u001b[0;34m,\u001b[0m \u001b[0;34m-\u001b[0m\u001b[0;36m117.6462\u001b[0m\u001b[0;34m,\u001b[0m \u001b[0;36m34.8233\u001b[0m\u001b[0;34m]\u001b[0m\u001b[0;34m)\u001b[0m\u001b[0;34m\u001b[0m\u001b[0m\n\u001b[0m",
      "\u001b[0;32m/Users/alee/anaconda/lib/python2.7/site-packages/tweepy/streaming.pyc\u001b[0m in \u001b[0;36mfilter\u001b[0;34m(self, follow, track, async, locations, stall_warnings, languages, encoding)\u001b[0m\n\u001b[1;32m    426\u001b[0m         \u001b[0mself\u001b[0m\u001b[0;34m.\u001b[0m\u001b[0msession\u001b[0m\u001b[0;34m.\u001b[0m\u001b[0mparams\u001b[0m \u001b[0;34m=\u001b[0m \u001b[0;34m{\u001b[0m\u001b[0;34m'delimited'\u001b[0m\u001b[0;34m:\u001b[0m \u001b[0;34m'length'\u001b[0m\u001b[0;34m}\u001b[0m\u001b[0;34m\u001b[0m\u001b[0m\n\u001b[1;32m    427\u001b[0m         \u001b[0mself\u001b[0m\u001b[0;34m.\u001b[0m\u001b[0mhost\u001b[0m \u001b[0;34m=\u001b[0m \u001b[0;34m'stream.twitter.com'\u001b[0m\u001b[0;34m\u001b[0m\u001b[0m\n\u001b[0;32m--> 428\u001b[0;31m         \u001b[0mself\u001b[0m\u001b[0;34m.\u001b[0m\u001b[0m_start\u001b[0m\u001b[0;34m(\u001b[0m\u001b[0masync\u001b[0m\u001b[0;34m)\u001b[0m\u001b[0;34m\u001b[0m\u001b[0m\n\u001b[0m\u001b[1;32m    429\u001b[0m \u001b[0;34m\u001b[0m\u001b[0m\n\u001b[1;32m    430\u001b[0m     def sitestream(self, follow, stall_warnings=False,\n",
      "\u001b[0;32m/Users/alee/anaconda/lib/python2.7/site-packages/tweepy/streaming.pyc\u001b[0m in \u001b[0;36m_start\u001b[0;34m(self, async)\u001b[0m\n\u001b[1;32m    344\u001b[0m             \u001b[0mself\u001b[0m\u001b[0;34m.\u001b[0m\u001b[0m_thread\u001b[0m\u001b[0;34m.\u001b[0m\u001b[0mstart\u001b[0m\u001b[0;34m(\u001b[0m\u001b[0;34m)\u001b[0m\u001b[0;34m\u001b[0m\u001b[0m\n\u001b[1;32m    345\u001b[0m         \u001b[0;32melse\u001b[0m\u001b[0;34m:\u001b[0m\u001b[0;34m\u001b[0m\u001b[0m\n\u001b[0;32m--> 346\u001b[0;31m             \u001b[0mself\u001b[0m\u001b[0;34m.\u001b[0m\u001b[0m_run\u001b[0m\u001b[0;34m(\u001b[0m\u001b[0;34m)\u001b[0m\u001b[0;34m\u001b[0m\u001b[0m\n\u001b[0m\u001b[1;32m    347\u001b[0m \u001b[0;34m\u001b[0m\u001b[0m\n\u001b[1;32m    348\u001b[0m     \u001b[0;32mdef\u001b[0m \u001b[0mon_closed\u001b[0m\u001b[0;34m(\u001b[0m\u001b[0mself\u001b[0m\u001b[0;34m,\u001b[0m \u001b[0mresp\u001b[0m\u001b[0;34m)\u001b[0m\u001b[0;34m:\u001b[0m\u001b[0;34m\u001b[0m\u001b[0m\n",
      "\u001b[0;32m/Users/alee/anaconda/lib/python2.7/site-packages/tweepy/streaming.pyc\u001b[0m in \u001b[0;36m_run\u001b[0;34m(self)\u001b[0m\n\u001b[1;32m    253\u001b[0m                     \u001b[0mself\u001b[0m\u001b[0;34m.\u001b[0m\u001b[0msnooze_time\u001b[0m \u001b[0;34m=\u001b[0m \u001b[0mself\u001b[0m\u001b[0;34m.\u001b[0m\u001b[0msnooze_time_step\u001b[0m\u001b[0;34m\u001b[0m\u001b[0m\n\u001b[1;32m    254\u001b[0m                     \u001b[0mself\u001b[0m\u001b[0;34m.\u001b[0m\u001b[0mlistener\u001b[0m\u001b[0;34m.\u001b[0m\u001b[0mon_connect\u001b[0m\u001b[0;34m(\u001b[0m\u001b[0;34m)\u001b[0m\u001b[0;34m\u001b[0m\u001b[0m\n\u001b[0;32m--> 255\u001b[0;31m                     \u001b[0mself\u001b[0m\u001b[0;34m.\u001b[0m\u001b[0m_read_loop\u001b[0m\u001b[0;34m(\u001b[0m\u001b[0mresp\u001b[0m\u001b[0;34m)\u001b[0m\u001b[0;34m\u001b[0m\u001b[0m\n\u001b[0m\u001b[1;32m    256\u001b[0m             \u001b[0;32mexcept\u001b[0m \u001b[0;34m(\u001b[0m\u001b[0mTimeout\u001b[0m\u001b[0;34m,\u001b[0m \u001b[0mssl\u001b[0m\u001b[0;34m.\u001b[0m\u001b[0mSSLError\u001b[0m\u001b[0;34m)\u001b[0m \u001b[0;32mas\u001b[0m \u001b[0mexc\u001b[0m\u001b[0;34m:\u001b[0m\u001b[0;34m\u001b[0m\u001b[0m\n\u001b[1;32m    257\u001b[0m                 \u001b[0;31m# This is still necessary, as a SSLError can actually be\u001b[0m\u001b[0;34m\u001b[0m\u001b[0;34m\u001b[0m\u001b[0m\n",
      "\u001b[0;32m/Users/alee/anaconda/lib/python2.7/site-packages/tweepy/streaming.pyc\u001b[0m in \u001b[0;36m_read_loop\u001b[0;34m(self, resp)\u001b[0m\n\u001b[1;32m    296\u001b[0m             \u001b[0mlength\u001b[0m \u001b[0;34m=\u001b[0m \u001b[0;36m0\u001b[0m\u001b[0;34m\u001b[0m\u001b[0m\n\u001b[1;32m    297\u001b[0m             \u001b[0;32mwhile\u001b[0m \u001b[0;32mnot\u001b[0m \u001b[0mresp\u001b[0m\u001b[0;34m.\u001b[0m\u001b[0mraw\u001b[0m\u001b[0;34m.\u001b[0m\u001b[0mclosed\u001b[0m\u001b[0;34m:\u001b[0m\u001b[0;34m\u001b[0m\u001b[0m\n\u001b[0;32m--> 298\u001b[0;31m                 \u001b[0mline\u001b[0m \u001b[0;34m=\u001b[0m \u001b[0mbuf\u001b[0m\u001b[0;34m.\u001b[0m\u001b[0mread_line\u001b[0m\u001b[0;34m(\u001b[0m\u001b[0;34m)\u001b[0m\u001b[0;34m.\u001b[0m\u001b[0mstrip\u001b[0m\u001b[0;34m(\u001b[0m\u001b[0;34m)\u001b[0m\u001b[0;34m\u001b[0m\u001b[0m\n\u001b[0m\u001b[1;32m    299\u001b[0m                 \u001b[0;32mif\u001b[0m \u001b[0;32mnot\u001b[0m \u001b[0mline\u001b[0m\u001b[0;34m:\u001b[0m\u001b[0;34m\u001b[0m\u001b[0m\n\u001b[1;32m    300\u001b[0m                     \u001b[0mself\u001b[0m\u001b[0;34m.\u001b[0m\u001b[0mlistener\u001b[0m\u001b[0;34m.\u001b[0m\u001b[0mkeep_alive\u001b[0m\u001b[0;34m(\u001b[0m\u001b[0;34m)\u001b[0m  \u001b[0;31m# keep-alive new lines are expected\u001b[0m\u001b[0;34m\u001b[0m\u001b[0m\n",
      "\u001b[0;32m/Users/alee/anaconda/lib/python2.7/site-packages/tweepy/streaming.pyc\u001b[0m in \u001b[0;36mread_line\u001b[0;34m(self, sep)\u001b[0m\n\u001b[1;32m    169\u001b[0m             \u001b[0;32melse\u001b[0m\u001b[0;34m:\u001b[0m\u001b[0;34m\u001b[0m\u001b[0m\n\u001b[1;32m    170\u001b[0m                 \u001b[0mstart\u001b[0m \u001b[0;34m=\u001b[0m \u001b[0mlen\u001b[0m\u001b[0;34m(\u001b[0m\u001b[0mself\u001b[0m\u001b[0;34m.\u001b[0m\u001b[0m_buffer\u001b[0m\u001b[0;34m)\u001b[0m\u001b[0;34m\u001b[0m\u001b[0m\n\u001b[0;32m--> 171\u001b[0;31m             \u001b[0mself\u001b[0m\u001b[0;34m.\u001b[0m\u001b[0m_buffer\u001b[0m \u001b[0;34m+=\u001b[0m \u001b[0mself\u001b[0m\u001b[0;34m.\u001b[0m\u001b[0m_stream\u001b[0m\u001b[0;34m.\u001b[0m\u001b[0mread\u001b[0m\u001b[0;34m(\u001b[0m\u001b[0mself\u001b[0m\u001b[0;34m.\u001b[0m\u001b[0m_chunk_size\u001b[0m\u001b[0;34m)\u001b[0m\u001b[0;34m.\u001b[0m\u001b[0mdecode\u001b[0m\u001b[0;34m(\u001b[0m\u001b[0;34m\"ascii\"\u001b[0m\u001b[0;34m)\u001b[0m\u001b[0;34m\u001b[0m\u001b[0m\n\u001b[0m\u001b[1;32m    172\u001b[0m \u001b[0;34m\u001b[0m\u001b[0m\n\u001b[1;32m    173\u001b[0m     \u001b[0;32mdef\u001b[0m \u001b[0m_pop\u001b[0m\u001b[0;34m(\u001b[0m\u001b[0mself\u001b[0m\u001b[0;34m,\u001b[0m \u001b[0mlength\u001b[0m\u001b[0;34m)\u001b[0m\u001b[0;34m:\u001b[0m\u001b[0;34m\u001b[0m\u001b[0m\n",
      "\u001b[0;32m/Users/alee/anaconda/lib/python2.7/site-packages/requests/packages/urllib3/response.pyc\u001b[0m in \u001b[0;36mread\u001b[0;34m(self, amt, decode_content, cache_content)\u001b[0m\n\u001b[1;32m    299\u001b[0m             \u001b[0;32melse\u001b[0m\u001b[0;34m:\u001b[0m\u001b[0;34m\u001b[0m\u001b[0m\n\u001b[1;32m    300\u001b[0m                 \u001b[0mcache_content\u001b[0m \u001b[0;34m=\u001b[0m \u001b[0mFalse\u001b[0m\u001b[0;34m\u001b[0m\u001b[0m\n\u001b[0;32m--> 301\u001b[0;31m                 \u001b[0mdata\u001b[0m \u001b[0;34m=\u001b[0m \u001b[0mself\u001b[0m\u001b[0;34m.\u001b[0m\u001b[0m_fp\u001b[0m\u001b[0;34m.\u001b[0m\u001b[0mread\u001b[0m\u001b[0;34m(\u001b[0m\u001b[0mamt\u001b[0m\u001b[0;34m)\u001b[0m\u001b[0;34m\u001b[0m\u001b[0m\n\u001b[0m\u001b[1;32m    302\u001b[0m                 \u001b[0;32mif\u001b[0m \u001b[0mamt\u001b[0m \u001b[0;34m!=\u001b[0m \u001b[0;36m0\u001b[0m \u001b[0;32mand\u001b[0m \u001b[0;32mnot\u001b[0m \u001b[0mdata\u001b[0m\u001b[0;34m:\u001b[0m  \u001b[0;31m# Platform-specific: Buggy versions of Python.\u001b[0m\u001b[0;34m\u001b[0m\u001b[0m\n\u001b[1;32m    303\u001b[0m                     \u001b[0;31m# Close the connection when no data is returned\u001b[0m\u001b[0;34m\u001b[0m\u001b[0;34m\u001b[0m\u001b[0m\n",
      "\u001b[0;32m/Users/alee/anaconda/lib/python2.7/httplib.pyc\u001b[0m in \u001b[0;36mread\u001b[0;34m(self, amt)\u001b[0m\n\u001b[1;32m    586\u001b[0m \u001b[0;34m\u001b[0m\u001b[0m\n\u001b[1;32m    587\u001b[0m         \u001b[0;32mif\u001b[0m \u001b[0mself\u001b[0m\u001b[0;34m.\u001b[0m\u001b[0mchunked\u001b[0m\u001b[0;34m:\u001b[0m\u001b[0;34m\u001b[0m\u001b[0m\n\u001b[0;32m--> 588\u001b[0;31m             \u001b[0;32mreturn\u001b[0m \u001b[0mself\u001b[0m\u001b[0;34m.\u001b[0m\u001b[0m_read_chunked\u001b[0m\u001b[0;34m(\u001b[0m\u001b[0mamt\u001b[0m\u001b[0;34m)\u001b[0m\u001b[0;34m\u001b[0m\u001b[0m\n\u001b[0m\u001b[1;32m    589\u001b[0m \u001b[0;34m\u001b[0m\u001b[0m\n\u001b[1;32m    590\u001b[0m         \u001b[0;32mif\u001b[0m \u001b[0mamt\u001b[0m \u001b[0;32mis\u001b[0m \u001b[0mNone\u001b[0m\u001b[0;34m:\u001b[0m\u001b[0;34m\u001b[0m\u001b[0m\n",
      "\u001b[0;32m/Users/alee/anaconda/lib/python2.7/httplib.pyc\u001b[0m in \u001b[0;36m_read_chunked\u001b[0;34m(self, amt)\u001b[0m\n\u001b[1;32m    628\u001b[0m         \u001b[0;32mwhile\u001b[0m \u001b[0mTrue\u001b[0m\u001b[0;34m:\u001b[0m\u001b[0;34m\u001b[0m\u001b[0m\n\u001b[1;32m    629\u001b[0m             \u001b[0;32mif\u001b[0m \u001b[0mchunk_left\u001b[0m \u001b[0;32mis\u001b[0m \u001b[0mNone\u001b[0m\u001b[0;34m:\u001b[0m\u001b[0;34m\u001b[0m\u001b[0m\n\u001b[0;32m--> 630\u001b[0;31m                 \u001b[0mline\u001b[0m \u001b[0;34m=\u001b[0m \u001b[0mself\u001b[0m\u001b[0;34m.\u001b[0m\u001b[0mfp\u001b[0m\u001b[0;34m.\u001b[0m\u001b[0mreadline\u001b[0m\u001b[0;34m(\u001b[0m\u001b[0m_MAXLINE\u001b[0m \u001b[0;34m+\u001b[0m \u001b[0;36m1\u001b[0m\u001b[0;34m)\u001b[0m\u001b[0;34m\u001b[0m\u001b[0m\n\u001b[0m\u001b[1;32m    631\u001b[0m                 \u001b[0;32mif\u001b[0m \u001b[0mlen\u001b[0m\u001b[0;34m(\u001b[0m\u001b[0mline\u001b[0m\u001b[0;34m)\u001b[0m \u001b[0;34m>\u001b[0m \u001b[0m_MAXLINE\u001b[0m\u001b[0;34m:\u001b[0m\u001b[0;34m\u001b[0m\u001b[0m\n\u001b[1;32m    632\u001b[0m                     \u001b[0;32mraise\u001b[0m \u001b[0mLineTooLong\u001b[0m\u001b[0;34m(\u001b[0m\u001b[0;34m\"chunk size\"\u001b[0m\u001b[0;34m)\u001b[0m\u001b[0;34m\u001b[0m\u001b[0m\n",
      "\u001b[0;32m/Users/alee/anaconda/lib/python2.7/socket.pyc\u001b[0m in \u001b[0;36mreadline\u001b[0;34m(self, size)\u001b[0m\n\u001b[1;32m    478\u001b[0m             \u001b[0;32mwhile\u001b[0m \u001b[0mTrue\u001b[0m\u001b[0;34m:\u001b[0m\u001b[0;34m\u001b[0m\u001b[0m\n\u001b[1;32m    479\u001b[0m                 \u001b[0;32mtry\u001b[0m\u001b[0;34m:\u001b[0m\u001b[0;34m\u001b[0m\u001b[0m\n\u001b[0;32m--> 480\u001b[0;31m                     \u001b[0mdata\u001b[0m \u001b[0;34m=\u001b[0m \u001b[0mself\u001b[0m\u001b[0;34m.\u001b[0m\u001b[0m_sock\u001b[0m\u001b[0;34m.\u001b[0m\u001b[0mrecv\u001b[0m\u001b[0;34m(\u001b[0m\u001b[0mself\u001b[0m\u001b[0;34m.\u001b[0m\u001b[0m_rbufsize\u001b[0m\u001b[0;34m)\u001b[0m\u001b[0;34m\u001b[0m\u001b[0m\n\u001b[0m\u001b[1;32m    481\u001b[0m                 \u001b[0;32mexcept\u001b[0m \u001b[0merror\u001b[0m\u001b[0;34m,\u001b[0m \u001b[0me\u001b[0m\u001b[0;34m:\u001b[0m\u001b[0;34m\u001b[0m\u001b[0m\n\u001b[1;32m    482\u001b[0m                     \u001b[0;32mif\u001b[0m \u001b[0me\u001b[0m\u001b[0;34m.\u001b[0m\u001b[0margs\u001b[0m\u001b[0;34m[\u001b[0m\u001b[0;36m0\u001b[0m\u001b[0;34m]\u001b[0m \u001b[0;34m==\u001b[0m \u001b[0mEINTR\u001b[0m\u001b[0;34m:\u001b[0m\u001b[0;34m\u001b[0m\u001b[0m\n",
      "\u001b[0;32m/Users/alee/anaconda/lib/python2.7/ssl.pyc\u001b[0m in \u001b[0;36mrecv\u001b[0;34m(self, buflen, flags)\u001b[0m\n\u001b[1;32m    732\u001b[0m                     \u001b[0;34m\"non-zero flags not allowed in calls to recv() on %s\"\u001b[0m \u001b[0;34m%\u001b[0m\u001b[0;34m\u001b[0m\u001b[0m\n\u001b[1;32m    733\u001b[0m                     self.__class__)\n\u001b[0;32m--> 734\u001b[0;31m             \u001b[0;32mreturn\u001b[0m \u001b[0mself\u001b[0m\u001b[0;34m.\u001b[0m\u001b[0mread\u001b[0m\u001b[0;34m(\u001b[0m\u001b[0mbuflen\u001b[0m\u001b[0;34m)\u001b[0m\u001b[0;34m\u001b[0m\u001b[0m\n\u001b[0m\u001b[1;32m    735\u001b[0m         \u001b[0;32melse\u001b[0m\u001b[0;34m:\u001b[0m\u001b[0;34m\u001b[0m\u001b[0m\n\u001b[1;32m    736\u001b[0m             \u001b[0;32mreturn\u001b[0m \u001b[0mself\u001b[0m\u001b[0;34m.\u001b[0m\u001b[0m_sock\u001b[0m\u001b[0;34m.\u001b[0m\u001b[0mrecv\u001b[0m\u001b[0;34m(\u001b[0m\u001b[0mbuflen\u001b[0m\u001b[0;34m,\u001b[0m \u001b[0mflags\u001b[0m\u001b[0;34m)\u001b[0m\u001b[0;34m\u001b[0m\u001b[0m\n",
      "\u001b[0;32m/Users/alee/anaconda/lib/python2.7/ssl.pyc\u001b[0m in \u001b[0;36mread\u001b[0;34m(self, len, buffer)\u001b[0m\n\u001b[1;32m    619\u001b[0m                 \u001b[0mv\u001b[0m \u001b[0;34m=\u001b[0m \u001b[0mself\u001b[0m\u001b[0;34m.\u001b[0m\u001b[0m_sslobj\u001b[0m\u001b[0;34m.\u001b[0m\u001b[0mread\u001b[0m\u001b[0;34m(\u001b[0m\u001b[0mlen\u001b[0m\u001b[0;34m,\u001b[0m \u001b[0mbuffer\u001b[0m\u001b[0;34m)\u001b[0m\u001b[0;34m\u001b[0m\u001b[0m\n\u001b[1;32m    620\u001b[0m             \u001b[0;32melse\u001b[0m\u001b[0;34m:\u001b[0m\u001b[0;34m\u001b[0m\u001b[0m\n\u001b[0;32m--> 621\u001b[0;31m                 \u001b[0mv\u001b[0m \u001b[0;34m=\u001b[0m \u001b[0mself\u001b[0m\u001b[0;34m.\u001b[0m\u001b[0m_sslobj\u001b[0m\u001b[0;34m.\u001b[0m\u001b[0mread\u001b[0m\u001b[0;34m(\u001b[0m\u001b[0mlen\u001b[0m \u001b[0;32mor\u001b[0m \u001b[0;36m1024\u001b[0m\u001b[0;34m)\u001b[0m\u001b[0;34m\u001b[0m\u001b[0m\n\u001b[0m\u001b[1;32m    622\u001b[0m             \u001b[0;32mreturn\u001b[0m \u001b[0mv\u001b[0m\u001b[0;34m\u001b[0m\u001b[0m\n\u001b[1;32m    623\u001b[0m         \u001b[0;32mexcept\u001b[0m \u001b[0mSSLError\u001b[0m \u001b[0;32mas\u001b[0m \u001b[0mx\u001b[0m\u001b[0;34m:\u001b[0m\u001b[0;34m\u001b[0m\u001b[0m\n",
      "\u001b[0;31mKeyboardInterrupt\u001b[0m: "
     ]
    }
   ],
   "source": [
    "## Streaming API\n",
    "\n",
    "# Create the oauth accessors\n",
    "auth = OAuthHandler(keys['consumer_key'], keys['consumer_secret']) # only gives 180 requests\n",
    "auth.set_access_token(keys['access_token'], keys['access_secret'])\n",
    "\n",
    "# create a basic listener that encapsulates StreamListener object; that just prints received tweets to text file\n",
    "class Streamgetter(StreamListener):\n",
    "    def __init__(self):\n",
    "        self.counter = 0\n",
    "        self.error = 0\n",
    "    def on_data(self, data):\n",
    "        '''\n",
    "        Input: live streaming data from Twitter API\n",
    "        Output: N/A\n",
    "        '''\n",
    "        try:\n",
    "            file = open(\"data/stream.txt\", 'a')\n",
    "            file.write(data)\n",
    "            file.close()\n",
    "            self.counter += 1\n",
    "            print \"Downloaded: %d tweets\" %(self.counter)\n",
    "            return True\n",
    "        except Exception as e:\n",
    "            print 'failed ondata,', str(e)\n",
    "            time.sleep(5)\n",
    "            pass\n",
    "    def on_error(self, status):\n",
    "        '''\n",
    "        Input: status direct from Twitter API\n",
    "        Output: N/A\n",
    "        '''\n",
    "        self.error += 1\n",
    "        print 'ALERT: Error Count: ', self.error\n",
    "        if status == 420:\n",
    "            print 'status: Rate Limited ', status\n",
    "            time.sleep(self.error * 60000)\n",
    "        else:\n",
    "            print 'status: other HTTP error ', status\n",
    "            time.sleep(10000)\n",
    "        return False\n",
    "# dir(StreamListener)\n",
    "\n",
    "# Initialize the stream listener\n",
    "listener = Streamgetter()\n",
    "stream = Stream(auth, listener)\n",
    "\n",
    "# begin capturing Twitter Streams by keywords but in this case, I left track blank\n",
    "print \"Downloading tweets with Streaming API... \"\n",
    "stream.filter(stall_warnings=True, locations=[-118.9448, 32.8007, -117.6462, 34.8233])"
   ]
  },
  {
   "cell_type": "code",
   "execution_count": 5,
   "metadata": {
    "collapsed": false
   },
   "outputs": [],
   "source": [
    "# In order to build features, we need to create good tokens\n",
    "emojis_str = emoji.get_emoji_regexp().pattern[1:-1] # store all emoji regular expressions\n",
    "\n",
    "# build regex string for each type of entity, I could have also used the entities field in the json file\n",
    "regex_str = [\n",
    "    emojis_str,\n",
    "    r'<[^>]+>', # HTML tags\n",
    "    r'(?:@[\\w_]+)', # @-mentions\n",
    "    r\"(?:\\#+[\\w_]+[\\w\\'_\\-]*[\\w_]+)\", # hash-tags\n",
    "    r'http[s]?://(?:[a-z]|[0-9]|[$-_@.&+]|[!*\\(\\),]|(?:%[0-9a-f][0-9a-f]))+', # URLs\n",
    " \n",
    "    r'(?:(?:\\d+,?)+(?:\\.?\\d+)?)', # numbers\n",
    "    r\"(?:[a-z][a-z'\\-_]+[a-z])\", # words with - and '\n",
    "    r'(?:[\\w_]+)', # other words\n",
    "    r'(?:\\S)' # anything else\n",
    "]\n",
    "\n",
    "# recompile the regexp\n",
    "tokens_re = re.compile(r'('+'|'.join(regex_str)+')', re.VERBOSE | re.IGNORECASE)\n",
    "emoticon_re = re.compile(r'^'+emojis_str+'$', re.VERBOSE | re.IGNORECASE)"
   ]
  },
  {
   "cell_type": "code",
   "execution_count": 6,
   "metadata": {
    "collapsed": false
   },
   "outputs": [],
   "source": [
    "# Create some stopwords because they are unlikely very informative\n",
    "punctuation = list(string.punctuation)\n",
    "mystopwords = stopwords.words('english') + punctuation\n",
    "\n",
    "def mytokenizer(s):\n",
    "    '''\n",
    "    Input: Tweet text\n",
    "    Output: list of tokens or words\n",
    "    '''\n",
    "    # find all the matching tokens according to our set of twitter elements\n",
    "    tokens = tokens_re.findall(s)\n",
    "    # lets standardize text by lowercasing for everything except emoticons\n",
    "    tokens = [token if emoticon_re.search(token) else token.lower() for token in tokens]\n",
    "    return [token for token in tokens if token not in mystopwords]"
   ]
  },
  {
   "cell_type": "code",
   "execution_count": 7,
   "metadata": {
    "collapsed": false
   },
   "outputs": [],
   "source": [
    "# class to help us build a coocurrance matrix\n",
    "class build_cooccurence(object):\n",
    "    def __init__(self):\n",
    "        self.cooccurence = defaultdict(lambda:defaultdict(int))\n",
    "    def update_cooccurence(self, terms):\n",
    "        '''\n",
    "        Input: list of tokens\n",
    "        Output: N/A\n",
    "        '''\n",
    "        for i in xrange(len(terms)-1): # we want to leave subtract last index so we can compare later\n",
    "            for j in xrange(i+1,len(terms)):\n",
    "                w1, w2 = sorted([terms[i], terms[j]]) # must sort or else we will have duplicates AB, BA\n",
    "                if w1 != w2:\n",
    "                    self.cooccurence[w1][w2] += 1\n",
    "    def max_cooccurence(self, top):\n",
    "        '''\n",
    "        Input: number of top n occurences to reveal\n",
    "        Output: list of top n occurences\n",
    "        '''\n",
    "        cooccurence_max = []\n",
    "        for w1 in self.cooccurence: # for each key\n",
    "            for w2 in self.cooccurence[w1]:\n",
    "                cooccurence_max.append( ((w1, w2), self.cooccurence[w1][w2]))\n",
    "        terms_max = sorted(cooccurence_max, key=operator.itemgetter(1), reverse=True)[:top]\n",
    "        return terms_max "
   ]
  },
  {
   "cell_type": "code",
   "execution_count": 21,
   "metadata": {
    "collapsed": false
   },
   "outputs": [
    {
     "name": "stdout",
     "output_type": "stream",
     "text": [
      "{u'contributors': None, u'truncated': False, u'text': u\"It's fact that Edison loved three things above all else: Harnessing electricity, vibing to some\\u2026 https://t.co/lNV3DB5Jum\", u'is_quote_status': False, u'in_reply_to_status_id': None, u'id': 726942177813762049, u'favorite_count': 0, u'source': u'<a href=\"http://instagram.com\" rel=\"nofollow\">Instagram</a>', u'retweeted': False, u'coordinates': {u'type': u'Point', u'coordinates': [-117.78428, 33.54257]}, u'timestamp_ms': u'1462151495780', u'entities': {u'user_mentions': [], u'symbols': [], u'hashtags': [], u'urls': [{u'url': u'https://t.co/lNV3DB5Jum', u'indices': [97, 120], u'expanded_url': u'https://www.instagram.com/p/BE4s5HBjP2Y/', u'display_url': u'instagram.com/p/BE4s5HBjP2Y/'}]}, u'in_reply_to_screen_name': None, u'id_str': u'726942177813762049', u'retweet_count': 0, u'in_reply_to_user_id': None, u'favorited': False, u'user': {u'follow_request_sent': None, u'profile_use_background_image': True, u'default_profile_image': False, u'id': 547996418, u'verified': False, u'profile_image_url_https': u'https://pbs.twimg.com/profile_images/723944187960254466/7glG4-kv_normal.jpg', u'profile_sidebar_fill_color': u'252429', u'profile_text_color': u'666666', u'followers_count': 963, u'profile_sidebar_border_color': u'FFFFFF', u'id_str': u'547996418', u'profile_background_color': u'1A1B1F', u'listed_count': 8, u'profile_background_image_url_https': u'https://pbs.twimg.com/profile_background_images/378800000182205795/dWqdYrcU.jpeg', u'utc_offset': -10800, u'statuses_count': 1796, u'description': u'Professional Vocalist, Instrumentalist - The Voice S4 Casting Finalist | Live Show Machine - 300+ Shows per Year | Endorsing @64audio', u'friends_count': 604, u'location': u'Philadelphia/Los Angeles', u'profile_link_color': u'2FC2EF', u'profile_image_url': u'http://pbs.twimg.com/profile_images/723944187960254466/7glG4-kv_normal.jpg', u'following': None, u'geo_enabled': True, u'profile_banner_url': u'https://pbs.twimg.com/profile_banners/547996418/1455667230', u'profile_background_image_url': u'http://pbs.twimg.com/profile_background_images/378800000182205795/dWqdYrcU.jpeg', u'name': u'J. Liberio Music', u'lang': u'en', u'profile_background_tile': False, u'favourites_count': 271, u'screen_name': u'jliberio', u'notifications': None, u'url': u'http://jliberio.com', u'created_at': u'Sat Apr 07 23:56:09 +0000 2012', u'contributors_enabled': False, u'time_zone': u'Atlantic Time (Canada)', u'protected': False, u'default_profile': False, u'is_translator': False}, u'geo': {u'type': u'Point', u'coordinates': [33.54257, -117.78428]}, u'in_reply_to_user_id_str': None, u'possibly_sensitive': False, u'lang': u'en', u'created_at': u'Mon May 02 01:11:35 +0000 2016', u'filter_level': u'low', u'in_reply_to_status_id_str': None, u'place': {u'full_name': u'Laguna Beach, CA', u'url': u'https://api.twitter.com/1.1/geo/id/2f6cb9a739991200.json', u'country': u'United States', u'place_type': u'city', u'bounding_box': {u'type': u'Polygon', u'coordinates': [[[-117.820234, 33.48444], [-117.820234, 33.610906], [-117.730133, 33.610906], [-117.730133, 33.48444]]]}, u'country_code': u'US', u'attributes': {}, u'id': u'2f6cb9a739991200', u'name': u'Laguna Beach'}}\n"
     ]
    }
   ],
   "source": [
    "# store tweets in a variable\n",
    "def save_tweets(filepath):\n",
    "    tweets = []\n",
    "    '''\n",
    "    Input: filepath where the stream tweet data exists\n",
    "    Output: N/A\n",
    "    '''\n",
    "    tweets_file = open(filepath, \"r\")\n",
    "    for line in tweets_file:\n",
    "        tweet = json.loads(line)\n",
    "        # filter only geotagged tweets\n",
    "        if tweet['coordinates']:\n",
    "            tweets.append(json.loads(line))\n",
    "    return tweets\n",
    "tweets = save_tweets('data/stream.txt')\n",
    "print tweets[0]"
   ]
  },
  {
   "cell_type": "code",
   "execution_count": 49,
   "metadata": {
    "collapsed": false
   },
   "outputs": [
    {
     "name": "stdout",
     "output_type": "stream",
     "text": [
      "Took seconds:  648.480197906\n"
     ]
    }
   ],
   "source": [
    "## Explore the what the top tweets are about\n",
    "tstart = time.time()\n",
    "tweets_data_path = 'data/stream.txt'\n",
    "tweets_file = open(tweets_data_path, \"r\")\n",
    "\n",
    "# initialize counter for the tweet texts\n",
    "count_all = Counter() \n",
    "count_hash = Counter()\n",
    "count_mentions = Counter()\n",
    "count_nothashmention = Counter()\n",
    "count_bigrams = Counter()\n",
    "bc = build_cooccurence()\n",
    "\n",
    "for line in tweets_file:\n",
    "    # loads takes a single line in the file and converts it into a dictionary\n",
    "    tweet = json.loads(line)\n",
    "    # create a list of tokens for each new tweet with our tokenizer function\n",
    "    terms_all = [term for term in mytokenizer(tweet['text'])]\n",
    "    # hash-tages only\n",
    "    terms_hash = [term for term in mytokenizer(tweet['text']) if term.startswith('#')]\n",
    "    # @ mentions\n",
    "    terms_mentions = [term for term in mytokenizer(tweet['text']) if term.startswith('@')]\n",
    "    # words\n",
    "    terms_nothashmention = [term for term in mytokenizer(tweet['text']) if not term.startswith(('@','#'))]\n",
    "    # bigrams\n",
    "    terms_bigrams = bigrams(terms_nothashmention)\n",
    "\n",
    "    # update the counter dictionary\n",
    "    count_all.update(terms_all)\n",
    "    count_hash.update(terms_hash)\n",
    "    count_mentions.update(terms_mentions)\n",
    "    count_nothashmention.update(terms_nothashmention)\n",
    "    count_bigrams.update(terms_bigrams)\n",
    "    bc.update_cooccurence(terms_nothashmention) # co-occurrence \n",
    "#     bc.max_cooccurence(5)\n",
    "    \n",
    "tweets_file.close()\n",
    "tend = time.time()\n",
    "print \"Took seconds: \", tend - tstart"
   ]
  },
  {
   "cell_type": "code",
   "execution_count": 50,
   "metadata": {
    "collapsed": false,
    "scrolled": false
   },
   "outputs": [
    {
     "name": "stdout",
     "output_type": "stream",
     "text": [
      "[(u'\\U0001f602', 7421), (u\"i'm\", 5515), (u'like', 4126), (u'\\u2026', 3682), (u'\\ufe0f', 3133), (u'\\U0001f62d', 2996), (u'love', 2970), (u'get', 2807), (u\"don't\", 2742), (u'\\u0627', 2648)]\n",
      "[(u'#job', 812), (u'#gameofthrones', 673), (u'#hiring', 662), (u'#tsoucloser', 407), (u'#losangeles', 341), (u'#jobs', 322), (u'#careerarc', 240), (u'#wwepayback', 234), (u'#nhl17kopitar', 195), (u'#nblsetarehvoto', 165)]\n",
      "[(u'@odysseytheatre_', 139), (u'@gameofthrones', 120), (u'@realdonaldtrump', 91), (u'@camerondallas', 87), (u'@ptxofficial', 77), (u'@theellenshow', 66), (u'@captainamerica', 50), (u'@nuestrabelleza', 50), (u'@kyliejenner', 47), (u'@victorantonio', 47)]\n",
      "[(u'\\U0001f602', 7421), (u\"i'm\", 5515), (u'like', 4126), (u'\\u2026', 3682), (u'\\ufe0f', 3133), (u'\\U0001f62d', 2996), (u'love', 2970), (u'get', 2807), (u\"don't\", 2742), (u'\\u0627', 2648)]\n",
      "[((u'\\U0001f602', u'\\U0001f602'), 3523), ((u'\\u2764', u'\\ufe0f'), 1751), ((u'\\U0001f62d', u'\\U0001f62d'), 1238), ((u'\\U0001f60d', u'\\U0001f60d'), 885), ((u'\\u0627', u'\\u0644'), 860), ((u'los', u'angeles'), 536), ((u'happy', u'birthday'), 512), ((u'\\ufe0f', u'\\u2764'), 476), ((u'30', u'pm'), 449), ((u'9', u'30'), 440)]\n",
      "[((u'\\u0627', u'\\u0644'), 20897), ((u'\\u0627', u'\\u064a'), 13671), ((u'\\u0627', u'\\u0645'), 11385), ((u'\\u0627', u'\\u0646'), 10852)]\n"
     ]
    }
   ],
   "source": [
    "# Lets see some results\n",
    "print count_all.most_common(10)\n",
    "print count_hash.most_common(10)\n",
    "print count_mentions.most_common(10)\n",
    "print count_nothashmention.most_common(10)\n",
    "print count_bigrams.most_common(10)\n",
    "print bc.max_cooccurence(4)"
   ]
  },
  {
   "cell_type": "code",
   "execution_count": 11,
   "metadata": {
    "collapsed": false,
    "scrolled": true
   },
   "outputs": [],
   "source": [
    "def convert_date_time(date):\n",
    "    '''\n",
    "    Input: Twitter UTC datetime\n",
    "    Output: Local datetime\n",
    "    '''\n",
    "    from_zone = tz.gettz('UTC')\n",
    "    to_zone = tz.gettz('America/Los_Angeles')\n",
    "    utc = datetime.strptime(date,'%a %b %d %H:%M:%S +0000 %Y')\n",
    "    utc = utc.replace(tzinfo=from_zone)\n",
    "    # Convert time zone\n",
    "    pacific = utc.astimezone(to_zone)\n",
    "    return datetime.strftime(pacific, '%Y-%m-%d %H:%M:%S')"
   ]
  },
  {
   "cell_type": "code",
   "execution_count": 12,
   "metadata": {
    "collapsed": false
   },
   "outputs": [],
   "source": [
    "# Check the date pull range\n",
    "create_at = map(lambda x: convert_date_time(x[u'created_at']), tweets)\n",
    "print 'first tweet pulled: ', min(create_at)\n",
    "print 'last tweet pulled: ', max(create_at)"
   ]
  },
  {
   "cell_type": "markdown",
   "metadata": {
    "collapsed": true
   },
   "source": [
    "# REST API"
   ]
  },
  {
   "cell_type": "code",
   "execution_count": 15,
   "metadata": {
    "collapsed": true
   },
   "outputs": [],
   "source": [
    "auth = tweepy.AppAuthHandler(keys['consumer_key'], keys['consumer_secret']) # 450 requests\n",
    "# Officially authorize api connection: api variable is now the entry point for most operations with Twitter\n",
    "api = tweepy.API(auth, wait_on_rate_limit=True, wait_on_rate_limit_notify=True)"
   ]
  },
  {
   "cell_type": "code",
   "execution_count": 16,
   "metadata": {
    "collapsed": false
   },
   "outputs": [],
   "source": [
    "# set parameters for the REST API search\n",
    "tweetsPerQuery = 100\n",
    "geocode = \"34.0522,-118.2437,50mi\"\n",
    "until = u'2016-05-01'\n",
    "max_id = 726941826570051584 # int(sorted(map(lambda x: x[u'id_str'], tweets))[0])\n",
    "result_type = 'recent'"
   ]
  },
  {
   "cell_type": "code",
   "execution_count": 17,
   "metadata": {
    "collapsed": true
   },
   "outputs": [],
   "source": [
    "def search_tweets(filepath, tweetsPerQuery, geocode, until, max_id, result_type):\n",
    "    '''\n",
    "    Input: filepath to store the search data\n",
    "    Output: N/A\n",
    "    '''\n",
    "    tweetCount = 0\n",
    "    maxTweets = 1000000\n",
    "    print \"Downloading tweets with Search API... \"\n",
    "    tweets_search_path = filepath # 'data/search.txt'\n",
    "\n",
    "    with open(tweets_search_path, \"a\") as tweets_file:\n",
    "        while tweetCount < maxTweets:\n",
    "            try:\n",
    "                new_tweets = api.search(q='kobe', geocode=geocode, count=tweetsPerQuery, \n",
    "                                        max_id=str(max_id-1), until=until, result_type=result_type)\n",
    "                if not new_tweets:\n",
    "                    print \"No more tweets found\"\n",
    "                    break\n",
    "                for tweet in new_tweets:\n",
    "                    tweets_file.write(jsonpickle.encode(tweet._json, unpicklable=False)+'\\n')\n",
    "                    tweetCount += 1\n",
    "                print \"Downloaded %d tweets\" %(tweetCount)\n",
    "                max_id = new_tweets[-1].id\n",
    "            except tweepy.TweepError as e:\n",
    "                print \"Error: \" + str(e)\n",
    "                break"
   ]
  },
  {
   "cell_type": "code",
   "execution_count": 67,
   "metadata": {
    "collapsed": true
   },
   "outputs": [
    {
     "name": "stdout",
     "output_type": "stream",
     "text": [
      "Downloading tweets with Search API... \n",
      "Downloaded 100 tweets\n",
      "<class 'tweepy.models.Status'>\n",
      "Downloaded 200 tweets\n",
      "<class 'tweepy.models.Status'>\n",
      "Downloaded 300 tweets\n",
      "<class 'tweepy.models.Status'>\n",
      "Downloaded 400 tweets\n",
      "<class 'tweepy.models.Status'>\n",
      "Downloaded 500 tweets\n",
      "<class 'tweepy.models.Status'>\n",
      "Downloaded 600 tweets\n",
      "<class 'tweepy.models.Status'>\n",
      "Downloaded 700 tweets\n",
      "<class 'tweepy.models.Status'>\n",
      "Downloaded 800 tweets\n",
      "<class 'tweepy.models.Status'>\n",
      "Downloaded 900 tweets\n",
      "<class 'tweepy.models.Status'>\n",
      "Downloaded 1000 tweets\n",
      "<class 'tweepy.models.Status'>\n",
      "Downloaded 1100 tweets\n",
      "<class 'tweepy.models.Status'>\n",
      "Downloaded 1200 tweets\n",
      "<class 'tweepy.models.Status'>\n",
      "Downloaded 1300 tweets\n",
      "<class 'tweepy.models.Status'>\n",
      "Downloaded 1400 tweets\n",
      "<class 'tweepy.models.Status'>\n"
     ]
    },
    {
     "ename": "KeyboardInterrupt",
     "evalue": "",
     "output_type": "error",
     "traceback": [
      "\u001b[0;31m---------------------------------------------------------------------------\u001b[0m",
      "\u001b[0;31mKeyboardInterrupt\u001b[0m                         Traceback (most recent call last)",
      "\u001b[0;32m<ipython-input-67-a2afa63a1864>\u001b[0m in \u001b[0;36m<module>\u001b[0;34m()\u001b[0m\n\u001b[0;32m----> 1\u001b[0;31m \u001b[0msearch_tweets\u001b[0m\u001b[0;34m(\u001b[0m\u001b[0;34m'data/search.txt'\u001b[0m\u001b[0;34m,\u001b[0m \u001b[0mtweetsPerQuery\u001b[0m\u001b[0;34m,\u001b[0m \u001b[0mgeocode\u001b[0m\u001b[0;34m,\u001b[0m \u001b[0muntil\u001b[0m\u001b[0;34m,\u001b[0m \u001b[0mmax_id\u001b[0m\u001b[0;34m,\u001b[0m \u001b[0mresult_type\u001b[0m\u001b[0;34m)\u001b[0m\u001b[0;34m\u001b[0m\u001b[0m\n\u001b[0m",
      "\u001b[0;32m<ipython-input-66-0b109034bba9>\u001b[0m in \u001b[0;36msearch_tweets\u001b[0;34m(filepath, tweetsPerQuery, geocode, until, max_id, result_type)\u001b[0m\n\u001b[1;32m     13\u001b[0m             \u001b[0;32mtry\u001b[0m\u001b[0;34m:\u001b[0m\u001b[0;34m\u001b[0m\u001b[0m\n\u001b[1;32m     14\u001b[0m                 new_tweets = api.search(q='kobe', geocode=geocode, count=tweetsPerQuery, \n\u001b[0;32m---> 15\u001b[0;31m                                         max_id=str(max_id-1), until=until, result_type=result_type)\n\u001b[0m\u001b[1;32m     16\u001b[0m                 \u001b[0;32mif\u001b[0m \u001b[0;32mnot\u001b[0m \u001b[0mnew_tweets\u001b[0m\u001b[0;34m:\u001b[0m\u001b[0;34m\u001b[0m\u001b[0m\n\u001b[1;32m     17\u001b[0m                     \u001b[0;32mprint\u001b[0m \u001b[0;34m\"No more tweets found\"\u001b[0m\u001b[0;34m\u001b[0m\u001b[0m\n",
      "\u001b[0;32m/Users/alee/anaconda/lib/python2.7/site-packages/tweepy/binder.pyc\u001b[0m in \u001b[0;36m_call\u001b[0;34m(*args, **kwargs)\u001b[0m\n\u001b[1;32m    237\u001b[0m             \u001b[0;32mreturn\u001b[0m \u001b[0mmethod\u001b[0m\u001b[0;34m\u001b[0m\u001b[0m\n\u001b[1;32m    238\u001b[0m         \u001b[0;32melse\u001b[0m\u001b[0;34m:\u001b[0m\u001b[0;34m\u001b[0m\u001b[0m\n\u001b[0;32m--> 239\u001b[0;31m             \u001b[0;32mreturn\u001b[0m \u001b[0mmethod\u001b[0m\u001b[0;34m.\u001b[0m\u001b[0mexecute\u001b[0m\u001b[0;34m(\u001b[0m\u001b[0;34m)\u001b[0m\u001b[0;34m\u001b[0m\u001b[0m\n\u001b[0m\u001b[1;32m    240\u001b[0m \u001b[0;34m\u001b[0m\u001b[0m\n\u001b[1;32m    241\u001b[0m     \u001b[0;31m# Set pagination mode\u001b[0m\u001b[0;34m\u001b[0m\u001b[0;34m\u001b[0m\u001b[0m\n",
      "\u001b[0;32m/Users/alee/anaconda/lib/python2.7/site-packages/tweepy/binder.pyc\u001b[0m in \u001b[0;36mexecute\u001b[0;34m(self)\u001b[0m\n\u001b[1;32m    185\u001b[0m                                                 \u001b[0mtimeout\u001b[0m\u001b[0;34m=\u001b[0m\u001b[0mself\u001b[0m\u001b[0;34m.\u001b[0m\u001b[0mapi\u001b[0m\u001b[0;34m.\u001b[0m\u001b[0mtimeout\u001b[0m\u001b[0;34m,\u001b[0m\u001b[0;34m\u001b[0m\u001b[0m\n\u001b[1;32m    186\u001b[0m                                                 \u001b[0mauth\u001b[0m\u001b[0;34m=\u001b[0m\u001b[0mauth\u001b[0m\u001b[0;34m,\u001b[0m\u001b[0;34m\u001b[0m\u001b[0m\n\u001b[0;32m--> 187\u001b[0;31m                                                 proxies=self.api.proxy)\n\u001b[0m\u001b[1;32m    188\u001b[0m                 \u001b[0;32mexcept\u001b[0m \u001b[0mException\u001b[0m \u001b[0;32mas\u001b[0m \u001b[0me\u001b[0m\u001b[0;34m:\u001b[0m\u001b[0;34m\u001b[0m\u001b[0m\n\u001b[1;32m    189\u001b[0m                     \u001b[0;32mraise\u001b[0m \u001b[0mTweepError\u001b[0m\u001b[0;34m(\u001b[0m\u001b[0;34m'Failed to send request: %s'\u001b[0m \u001b[0;34m%\u001b[0m \u001b[0me\u001b[0m\u001b[0;34m)\u001b[0m\u001b[0;34m\u001b[0m\u001b[0m\n",
      "\u001b[0;32m/Users/alee/anaconda/lib/python2.7/site-packages/requests/sessions.pyc\u001b[0m in \u001b[0;36mrequest\u001b[0;34m(self, method, url, params, data, headers, cookies, files, auth, timeout, allow_redirects, proxies, hooks, stream, verify, cert, json)\u001b[0m\n\u001b[1;32m    466\u001b[0m         }\n\u001b[1;32m    467\u001b[0m         \u001b[0msend_kwargs\u001b[0m\u001b[0;34m.\u001b[0m\u001b[0mupdate\u001b[0m\u001b[0;34m(\u001b[0m\u001b[0msettings\u001b[0m\u001b[0;34m)\u001b[0m\u001b[0;34m\u001b[0m\u001b[0m\n\u001b[0;32m--> 468\u001b[0;31m         \u001b[0mresp\u001b[0m \u001b[0;34m=\u001b[0m \u001b[0mself\u001b[0m\u001b[0;34m.\u001b[0m\u001b[0msend\u001b[0m\u001b[0;34m(\u001b[0m\u001b[0mprep\u001b[0m\u001b[0;34m,\u001b[0m \u001b[0;34m**\u001b[0m\u001b[0msend_kwargs\u001b[0m\u001b[0;34m)\u001b[0m\u001b[0;34m\u001b[0m\u001b[0m\n\u001b[0m\u001b[1;32m    469\u001b[0m \u001b[0;34m\u001b[0m\u001b[0m\n\u001b[1;32m    470\u001b[0m         \u001b[0;32mreturn\u001b[0m \u001b[0mresp\u001b[0m\u001b[0;34m\u001b[0m\u001b[0m\n",
      "\u001b[0;32m/Users/alee/anaconda/lib/python2.7/site-packages/requests/sessions.pyc\u001b[0m in \u001b[0;36msend\u001b[0;34m(self, request, **kwargs)\u001b[0m\n\u001b[1;32m    574\u001b[0m \u001b[0;34m\u001b[0m\u001b[0m\n\u001b[1;32m    575\u001b[0m         \u001b[0;31m# Send the request\u001b[0m\u001b[0;34m\u001b[0m\u001b[0;34m\u001b[0m\u001b[0m\n\u001b[0;32m--> 576\u001b[0;31m         \u001b[0mr\u001b[0m \u001b[0;34m=\u001b[0m \u001b[0madapter\u001b[0m\u001b[0;34m.\u001b[0m\u001b[0msend\u001b[0m\u001b[0;34m(\u001b[0m\u001b[0mrequest\u001b[0m\u001b[0;34m,\u001b[0m \u001b[0;34m**\u001b[0m\u001b[0mkwargs\u001b[0m\u001b[0;34m)\u001b[0m\u001b[0;34m\u001b[0m\u001b[0m\n\u001b[0m\u001b[1;32m    577\u001b[0m \u001b[0;34m\u001b[0m\u001b[0m\n\u001b[1;32m    578\u001b[0m         \u001b[0;31m# Total elapsed time of the request (approximately)\u001b[0m\u001b[0;34m\u001b[0m\u001b[0;34m\u001b[0m\u001b[0m\n",
      "\u001b[0;32m/Users/alee/anaconda/lib/python2.7/site-packages/requests/adapters.pyc\u001b[0m in \u001b[0;36msend\u001b[0;34m(self, request, stream, timeout, verify, cert, proxies)\u001b[0m\n\u001b[1;32m    374\u001b[0m                     \u001b[0mdecode_content\u001b[0m\u001b[0;34m=\u001b[0m\u001b[0mFalse\u001b[0m\u001b[0;34m,\u001b[0m\u001b[0;34m\u001b[0m\u001b[0m\n\u001b[1;32m    375\u001b[0m                     \u001b[0mretries\u001b[0m\u001b[0;34m=\u001b[0m\u001b[0mself\u001b[0m\u001b[0;34m.\u001b[0m\u001b[0mmax_retries\u001b[0m\u001b[0;34m,\u001b[0m\u001b[0;34m\u001b[0m\u001b[0m\n\u001b[0;32m--> 376\u001b[0;31m                     \u001b[0mtimeout\u001b[0m\u001b[0;34m=\u001b[0m\u001b[0mtimeout\u001b[0m\u001b[0;34m\u001b[0m\u001b[0m\n\u001b[0m\u001b[1;32m    377\u001b[0m                 )\n\u001b[1;32m    378\u001b[0m \u001b[0;34m\u001b[0m\u001b[0m\n",
      "\u001b[0;32m/Users/alee/anaconda/lib/python2.7/site-packages/requests/packages/urllib3/connectionpool.pyc\u001b[0m in \u001b[0;36murlopen\u001b[0;34m(self, method, url, body, headers, retries, redirect, assert_same_host, timeout, pool_timeout, release_conn, **response_kw)\u001b[0m\n\u001b[1;32m    557\u001b[0m             httplib_response = self._make_request(conn, method, url,\n\u001b[1;32m    558\u001b[0m                                                   \u001b[0mtimeout\u001b[0m\u001b[0;34m=\u001b[0m\u001b[0mtimeout_obj\u001b[0m\u001b[0;34m,\u001b[0m\u001b[0;34m\u001b[0m\u001b[0m\n\u001b[0;32m--> 559\u001b[0;31m                                                   body=body, headers=headers)\n\u001b[0m\u001b[1;32m    560\u001b[0m \u001b[0;34m\u001b[0m\u001b[0m\n\u001b[1;32m    561\u001b[0m             \u001b[0;31m# If we're going to release the connection in ``finally:``, then\u001b[0m\u001b[0;34m\u001b[0m\u001b[0;34m\u001b[0m\u001b[0m\n",
      "\u001b[0;32m/Users/alee/anaconda/lib/python2.7/site-packages/requests/packages/urllib3/connectionpool.pyc\u001b[0m in \u001b[0;36m_make_request\u001b[0;34m(self, conn, method, url, timeout, **httplib_request_kw)\u001b[0m\n\u001b[1;32m    374\u001b[0m         \u001b[0;32mtry\u001b[0m\u001b[0;34m:\u001b[0m\u001b[0;34m\u001b[0m\u001b[0m\n\u001b[1;32m    375\u001b[0m             \u001b[0;32mtry\u001b[0m\u001b[0;34m:\u001b[0m  \u001b[0;31m# Python 2.7, use buffering of HTTP responses\u001b[0m\u001b[0;34m\u001b[0m\u001b[0m\n\u001b[0;32m--> 376\u001b[0;31m                 \u001b[0mhttplib_response\u001b[0m \u001b[0;34m=\u001b[0m \u001b[0mconn\u001b[0m\u001b[0;34m.\u001b[0m\u001b[0mgetresponse\u001b[0m\u001b[0;34m(\u001b[0m\u001b[0mbuffering\u001b[0m\u001b[0;34m=\u001b[0m\u001b[0mTrue\u001b[0m\u001b[0;34m)\u001b[0m\u001b[0;34m\u001b[0m\u001b[0m\n\u001b[0m\u001b[1;32m    377\u001b[0m             \u001b[0;32mexcept\u001b[0m \u001b[0mTypeError\u001b[0m\u001b[0;34m:\u001b[0m  \u001b[0;31m# Python 2.6 and older\u001b[0m\u001b[0;34m\u001b[0m\u001b[0m\n\u001b[1;32m    378\u001b[0m                 \u001b[0mhttplib_response\u001b[0m \u001b[0;34m=\u001b[0m \u001b[0mconn\u001b[0m\u001b[0;34m.\u001b[0m\u001b[0mgetresponse\u001b[0m\u001b[0;34m(\u001b[0m\u001b[0;34m)\u001b[0m\u001b[0;34m\u001b[0m\u001b[0m\n",
      "\u001b[0;32m/Users/alee/anaconda/lib/python2.7/httplib.pyc\u001b[0m in \u001b[0;36mgetresponse\u001b[0;34m(self, buffering)\u001b[0m\n\u001b[1;32m   1134\u001b[0m \u001b[0;34m\u001b[0m\u001b[0m\n\u001b[1;32m   1135\u001b[0m         \u001b[0;32mtry\u001b[0m\u001b[0;34m:\u001b[0m\u001b[0;34m\u001b[0m\u001b[0m\n\u001b[0;32m-> 1136\u001b[0;31m             \u001b[0mresponse\u001b[0m\u001b[0;34m.\u001b[0m\u001b[0mbegin\u001b[0m\u001b[0;34m(\u001b[0m\u001b[0;34m)\u001b[0m\u001b[0;34m\u001b[0m\u001b[0m\n\u001b[0m\u001b[1;32m   1137\u001b[0m             \u001b[0;32massert\u001b[0m \u001b[0mresponse\u001b[0m\u001b[0;34m.\u001b[0m\u001b[0mwill_close\u001b[0m \u001b[0;34m!=\u001b[0m \u001b[0m_UNKNOWN\u001b[0m\u001b[0;34m\u001b[0m\u001b[0m\n\u001b[1;32m   1138\u001b[0m             \u001b[0mself\u001b[0m\u001b[0;34m.\u001b[0m\u001b[0m__state\u001b[0m \u001b[0;34m=\u001b[0m \u001b[0m_CS_IDLE\u001b[0m\u001b[0;34m\u001b[0m\u001b[0m\n",
      "\u001b[0;32m/Users/alee/anaconda/lib/python2.7/httplib.pyc\u001b[0m in \u001b[0;36mbegin\u001b[0;34m(self)\u001b[0m\n\u001b[1;32m    451\u001b[0m         \u001b[0;31m# read until we get a non-100 response\u001b[0m\u001b[0;34m\u001b[0m\u001b[0;34m\u001b[0m\u001b[0m\n\u001b[1;32m    452\u001b[0m         \u001b[0;32mwhile\u001b[0m \u001b[0mTrue\u001b[0m\u001b[0;34m:\u001b[0m\u001b[0;34m\u001b[0m\u001b[0m\n\u001b[0;32m--> 453\u001b[0;31m             \u001b[0mversion\u001b[0m\u001b[0;34m,\u001b[0m \u001b[0mstatus\u001b[0m\u001b[0;34m,\u001b[0m \u001b[0mreason\u001b[0m \u001b[0;34m=\u001b[0m \u001b[0mself\u001b[0m\u001b[0;34m.\u001b[0m\u001b[0m_read_status\u001b[0m\u001b[0;34m(\u001b[0m\u001b[0;34m)\u001b[0m\u001b[0;34m\u001b[0m\u001b[0m\n\u001b[0m\u001b[1;32m    454\u001b[0m             \u001b[0;32mif\u001b[0m \u001b[0mstatus\u001b[0m \u001b[0;34m!=\u001b[0m \u001b[0mCONTINUE\u001b[0m\u001b[0;34m:\u001b[0m\u001b[0;34m\u001b[0m\u001b[0m\n\u001b[1;32m    455\u001b[0m                 \u001b[0;32mbreak\u001b[0m\u001b[0;34m\u001b[0m\u001b[0m\n",
      "\u001b[0;32m/Users/alee/anaconda/lib/python2.7/httplib.pyc\u001b[0m in \u001b[0;36m_read_status\u001b[0;34m(self)\u001b[0m\n\u001b[1;32m    407\u001b[0m     \u001b[0;32mdef\u001b[0m \u001b[0m_read_status\u001b[0m\u001b[0;34m(\u001b[0m\u001b[0mself\u001b[0m\u001b[0;34m)\u001b[0m\u001b[0;34m:\u001b[0m\u001b[0;34m\u001b[0m\u001b[0m\n\u001b[1;32m    408\u001b[0m         \u001b[0;31m# Initialize with Simple-Response defaults\u001b[0m\u001b[0;34m\u001b[0m\u001b[0;34m\u001b[0m\u001b[0m\n\u001b[0;32m--> 409\u001b[0;31m         \u001b[0mline\u001b[0m \u001b[0;34m=\u001b[0m \u001b[0mself\u001b[0m\u001b[0;34m.\u001b[0m\u001b[0mfp\u001b[0m\u001b[0;34m.\u001b[0m\u001b[0mreadline\u001b[0m\u001b[0;34m(\u001b[0m\u001b[0m_MAXLINE\u001b[0m \u001b[0;34m+\u001b[0m \u001b[0;36m1\u001b[0m\u001b[0;34m)\u001b[0m\u001b[0;34m\u001b[0m\u001b[0m\n\u001b[0m\u001b[1;32m    410\u001b[0m         \u001b[0;32mif\u001b[0m \u001b[0mlen\u001b[0m\u001b[0;34m(\u001b[0m\u001b[0mline\u001b[0m\u001b[0;34m)\u001b[0m \u001b[0;34m>\u001b[0m \u001b[0m_MAXLINE\u001b[0m\u001b[0;34m:\u001b[0m\u001b[0;34m\u001b[0m\u001b[0m\n\u001b[1;32m    411\u001b[0m             \u001b[0;32mraise\u001b[0m \u001b[0mLineTooLong\u001b[0m\u001b[0;34m(\u001b[0m\u001b[0;34m\"header line\"\u001b[0m\u001b[0;34m)\u001b[0m\u001b[0;34m\u001b[0m\u001b[0m\n",
      "\u001b[0;32m/Users/alee/anaconda/lib/python2.7/socket.pyc\u001b[0m in \u001b[0;36mreadline\u001b[0;34m(self, size)\u001b[0m\n\u001b[1;32m    478\u001b[0m             \u001b[0;32mwhile\u001b[0m \u001b[0mTrue\u001b[0m\u001b[0;34m:\u001b[0m\u001b[0;34m\u001b[0m\u001b[0m\n\u001b[1;32m    479\u001b[0m                 \u001b[0;32mtry\u001b[0m\u001b[0;34m:\u001b[0m\u001b[0;34m\u001b[0m\u001b[0m\n\u001b[0;32m--> 480\u001b[0;31m                     \u001b[0mdata\u001b[0m \u001b[0;34m=\u001b[0m \u001b[0mself\u001b[0m\u001b[0;34m.\u001b[0m\u001b[0m_sock\u001b[0m\u001b[0;34m.\u001b[0m\u001b[0mrecv\u001b[0m\u001b[0;34m(\u001b[0m\u001b[0mself\u001b[0m\u001b[0;34m.\u001b[0m\u001b[0m_rbufsize\u001b[0m\u001b[0;34m)\u001b[0m\u001b[0;34m\u001b[0m\u001b[0m\n\u001b[0m\u001b[1;32m    481\u001b[0m                 \u001b[0;32mexcept\u001b[0m \u001b[0merror\u001b[0m\u001b[0;34m,\u001b[0m \u001b[0me\u001b[0m\u001b[0;34m:\u001b[0m\u001b[0;34m\u001b[0m\u001b[0m\n\u001b[1;32m    482\u001b[0m                     \u001b[0;32mif\u001b[0m \u001b[0me\u001b[0m\u001b[0;34m.\u001b[0m\u001b[0margs\u001b[0m\u001b[0;34m[\u001b[0m\u001b[0;36m0\u001b[0m\u001b[0;34m]\u001b[0m \u001b[0;34m==\u001b[0m \u001b[0mEINTR\u001b[0m\u001b[0;34m:\u001b[0m\u001b[0;34m\u001b[0m\u001b[0m\n",
      "\u001b[0;32m/Users/alee/anaconda/lib/python2.7/ssl.pyc\u001b[0m in \u001b[0;36mrecv\u001b[0;34m(self, buflen, flags)\u001b[0m\n\u001b[1;32m    732\u001b[0m                     \u001b[0;34m\"non-zero flags not allowed in calls to recv() on %s\"\u001b[0m \u001b[0;34m%\u001b[0m\u001b[0;34m\u001b[0m\u001b[0m\n\u001b[1;32m    733\u001b[0m                     self.__class__)\n\u001b[0;32m--> 734\u001b[0;31m             \u001b[0;32mreturn\u001b[0m \u001b[0mself\u001b[0m\u001b[0;34m.\u001b[0m\u001b[0mread\u001b[0m\u001b[0;34m(\u001b[0m\u001b[0mbuflen\u001b[0m\u001b[0;34m)\u001b[0m\u001b[0;34m\u001b[0m\u001b[0m\n\u001b[0m\u001b[1;32m    735\u001b[0m         \u001b[0;32melse\u001b[0m\u001b[0;34m:\u001b[0m\u001b[0;34m\u001b[0m\u001b[0m\n\u001b[1;32m    736\u001b[0m             \u001b[0;32mreturn\u001b[0m \u001b[0mself\u001b[0m\u001b[0;34m.\u001b[0m\u001b[0m_sock\u001b[0m\u001b[0;34m.\u001b[0m\u001b[0mrecv\u001b[0m\u001b[0;34m(\u001b[0m\u001b[0mbuflen\u001b[0m\u001b[0;34m,\u001b[0m \u001b[0mflags\u001b[0m\u001b[0;34m)\u001b[0m\u001b[0;34m\u001b[0m\u001b[0m\n",
      "\u001b[0;32m/Users/alee/anaconda/lib/python2.7/ssl.pyc\u001b[0m in \u001b[0;36mread\u001b[0;34m(self, len, buffer)\u001b[0m\n\u001b[1;32m    619\u001b[0m                 \u001b[0mv\u001b[0m \u001b[0;34m=\u001b[0m \u001b[0mself\u001b[0m\u001b[0;34m.\u001b[0m\u001b[0m_sslobj\u001b[0m\u001b[0;34m.\u001b[0m\u001b[0mread\u001b[0m\u001b[0;34m(\u001b[0m\u001b[0mlen\u001b[0m\u001b[0;34m,\u001b[0m \u001b[0mbuffer\u001b[0m\u001b[0;34m)\u001b[0m\u001b[0;34m\u001b[0m\u001b[0m\n\u001b[1;32m    620\u001b[0m             \u001b[0;32melse\u001b[0m\u001b[0;34m:\u001b[0m\u001b[0;34m\u001b[0m\u001b[0m\n\u001b[0;32m--> 621\u001b[0;31m                 \u001b[0mv\u001b[0m \u001b[0;34m=\u001b[0m \u001b[0mself\u001b[0m\u001b[0;34m.\u001b[0m\u001b[0m_sslobj\u001b[0m\u001b[0;34m.\u001b[0m\u001b[0mread\u001b[0m\u001b[0;34m(\u001b[0m\u001b[0mlen\u001b[0m \u001b[0;32mor\u001b[0m \u001b[0;36m1024\u001b[0m\u001b[0;34m)\u001b[0m\u001b[0;34m\u001b[0m\u001b[0m\n\u001b[0m\u001b[1;32m    622\u001b[0m             \u001b[0;32mreturn\u001b[0m \u001b[0mv\u001b[0m\u001b[0;34m\u001b[0m\u001b[0m\n\u001b[1;32m    623\u001b[0m         \u001b[0;32mexcept\u001b[0m \u001b[0mSSLError\u001b[0m \u001b[0;32mas\u001b[0m \u001b[0mx\u001b[0m\u001b[0;34m:\u001b[0m\u001b[0;34m\u001b[0m\u001b[0m\n",
      "\u001b[0;31mKeyboardInterrupt\u001b[0m: "
     ]
    }
   ],
   "source": [
    "search_tweets('data/search.txt', tweetsPerQuery, geocode, until, max_id, result_type)"
   ]
  },
  {
   "cell_type": "code",
   "execution_count": 47,
   "metadata": {
    "collapsed": false
   },
   "outputs": [],
   "source": [
    "search_tweets = save_tweets('data/search.txt')"
   ]
  },
  {
   "cell_type": "code",
   "execution_count": 49,
   "metadata": {
    "collapsed": false
   },
   "outputs": [],
   "source": [
    "# Combine REST + Stream Tweets\n",
    "all_tweets = tweets + search_tweets"
   ]
  },
  {
   "cell_type": "markdown",
   "metadata": {},
   "source": [
    "# Crime Data"
   ]
  },
  {
   "cell_type": "code",
   "execution_count": 68,
   "metadata": {
    "collapsed": true
   },
   "outputs": [],
   "source": [
    "crime_data = pd.read_csv(\"data/PART_I_AND_II_CRIMES.csv\")"
   ]
  },
  {
   "cell_type": "code",
   "execution_count": 69,
   "metadata": {
    "collapsed": false,
    "scrolled": false
   },
   "outputs": [
    {
     "data": {
      "text/html": [
       "<div>\n",
       "<table border=\"1\" class=\"dataframe\">\n",
       "  <thead>\n",
       "    <tr style=\"text-align: right;\">\n",
       "      <th></th>\n",
       "      <th>LURN_SAK</th>\n",
       "      <th>INCIDENT_DATE</th>\n",
       "      <th>CATEGORY</th>\n",
       "      <th>STAT</th>\n",
       "      <th>STAT_DESC</th>\n",
       "      <th>ADDRESS</th>\n",
       "      <th>STREET</th>\n",
       "      <th>CITY</th>\n",
       "      <th>ZIP</th>\n",
       "      <th>X_COORDINATE</th>\n",
       "      <th>Y_COORDINATE</th>\n",
       "      <th>INCIDENT_ID</th>\n",
       "      <th>REPORTING_DISTRICT</th>\n",
       "      <th>SEQ</th>\n",
       "      <th>UNIT_ID</th>\n",
       "      <th>UNIT_NAME</th>\n",
       "      <th>DELETED</th>\n",
       "    </tr>\n",
       "  </thead>\n",
       "  <tbody>\n",
       "    <tr>\n",
       "      <th>0</th>\n",
       "      <td>17720395</td>\n",
       "      <td>2016-04-28 16:17:00</td>\n",
       "      <td>CRIMINAL HOMICIDE</td>\n",
       "      <td>11</td>\n",
       "      <td>CRIMINAL HOMICIDE: Murder</td>\n",
       "      <td>4200 E COMPTON BLVD, COMPTON, CA</td>\n",
       "      <td>4200 E COMPTON BLVD</td>\n",
       "      <td>COMPTON</td>\n",
       "      <td>NaN</td>\n",
       "      <td>6502036.318851</td>\n",
       "      <td>1784710.386787</td>\n",
       "      <td>016-05102-2851</td>\n",
       "      <td>2851</td>\n",
       "      <td>5102</td>\n",
       "      <td>CA0190042</td>\n",
       "      <td>COMPTON</td>\n",
       "      <td>N</td>\n",
       "    </tr>\n",
       "    <tr>\n",
       "      <th>1</th>\n",
       "      <td>17715753</td>\n",
       "      <td>2016-04-23 21:28:00</td>\n",
       "      <td>CRIMINAL HOMICIDE</td>\n",
       "      <td>11</td>\n",
       "      <td>CRIMINAL HOMICIDE: Murder</td>\n",
       "      <td>87TH PL &amp; MARY AVE, LOS ANGELES, CA 90002</td>\n",
       "      <td>87TH PL &amp; MARY AVE</td>\n",
       "      <td>LOS ANGELES</td>\n",
       "      <td>90002</td>\n",
       "      <td>6485923.034227</td>\n",
       "      <td>1807271.256784</td>\n",
       "      <td>016-06224-2174</td>\n",
       "      <td>2174</td>\n",
       "      <td>6224</td>\n",
       "      <td>CA01900V3</td>\n",
       "      <td>CENTURY</td>\n",
       "      <td>N</td>\n",
       "    </tr>\n",
       "    <tr>\n",
       "      <th>2</th>\n",
       "      <td>17713697</td>\n",
       "      <td>2016-04-21 18:20:00</td>\n",
       "      <td>CRIMINAL HOMICIDE</td>\n",
       "      <td>11</td>\n",
       "      <td>CRIMINAL HOMICIDE: Murder</td>\n",
       "      <td>89TH ST &amp; BUDLONG AVE, LOS ANGELES, CA 90044</td>\n",
       "      <td>89TH ST &amp; BUDLONG AVE</td>\n",
       "      <td>LOS ANGELES</td>\n",
       "      <td>90044</td>\n",
       "      <td>6471939.597934</td>\n",
       "      <td>1806826.283609</td>\n",
       "      <td>016-03565-0370</td>\n",
       "      <td>370</td>\n",
       "      <td>3565</td>\n",
       "      <td>CA0190003</td>\n",
       "      <td>SOUTH LOS ANGELES</td>\n",
       "      <td>N</td>\n",
       "    </tr>\n",
       "    <tr>\n",
       "      <th>3</th>\n",
       "      <td>17711048</td>\n",
       "      <td>2016-04-20 02:03:00</td>\n",
       "      <td>CRIMINAL HOMICIDE</td>\n",
       "      <td>11</td>\n",
       "      <td>CRIMINAL HOMICIDE: Murder</td>\n",
       "      <td>1700 W 125TH ST, LOS ANGELES, CA</td>\n",
       "      <td>1700 W 125TH ST</td>\n",
       "      <td>LOS ANGELES</td>\n",
       "      <td>NaN</td>\n",
       "      <td>6468088.913785</td>\n",
       "      <td>1793122.916439</td>\n",
       "      <td>016-03507-0377</td>\n",
       "      <td>377</td>\n",
       "      <td>3507</td>\n",
       "      <td>CA0190003</td>\n",
       "      <td>SOUTH LOS ANGELES</td>\n",
       "      <td>N</td>\n",
       "    </tr>\n",
       "    <tr>\n",
       "      <th>4</th>\n",
       "      <td>17704514</td>\n",
       "      <td>2016-04-15 02:14:00</td>\n",
       "      <td>CRIMINAL HOMICIDE</td>\n",
       "      <td>11</td>\n",
       "      <td>CRIMINAL HOMICIDE: Murder</td>\n",
       "      <td>3400 N PACIFIC PL, LONG BEACH, CA 90806</td>\n",
       "      <td>3400 N PACIFIC PL</td>\n",
       "      <td>LONG BEACH</td>\n",
       "      <td>90806</td>\n",
       "      <td>6498735.354605</td>\n",
       "      <td>1763535.609049</td>\n",
       "      <td>016-01878-6009</td>\n",
       "      <td>6009</td>\n",
       "      <td>1878</td>\n",
       "      <td>CA0190031</td>\n",
       "      <td>TRANSIT SERV BUR</td>\n",
       "      <td>N</td>\n",
       "    </tr>\n",
       "  </tbody>\n",
       "</table>\n",
       "</div>"
      ],
      "text/plain": [
       "   LURN_SAK        INCIDENT_DATE           CATEGORY  STAT  \\\n",
       "0  17720395  2016-04-28 16:17:00  CRIMINAL HOMICIDE    11   \n",
       "1  17715753  2016-04-23 21:28:00  CRIMINAL HOMICIDE    11   \n",
       "2  17713697  2016-04-21 18:20:00  CRIMINAL HOMICIDE    11   \n",
       "3  17711048  2016-04-20 02:03:00  CRIMINAL HOMICIDE    11   \n",
       "4  17704514  2016-04-15 02:14:00  CRIMINAL HOMICIDE    11   \n",
       "\n",
       "                   STAT_DESC                                       ADDRESS  \\\n",
       "0  CRIMINAL HOMICIDE: Murder              4200 E COMPTON BLVD, COMPTON, CA   \n",
       "1  CRIMINAL HOMICIDE: Murder     87TH PL & MARY AVE, LOS ANGELES, CA 90002   \n",
       "2  CRIMINAL HOMICIDE: Murder  89TH ST & BUDLONG AVE, LOS ANGELES, CA 90044   \n",
       "3  CRIMINAL HOMICIDE: Murder              1700 W 125TH ST, LOS ANGELES, CA   \n",
       "4  CRIMINAL HOMICIDE: Murder       3400 N PACIFIC PL, LONG BEACH, CA 90806   \n",
       "\n",
       "                  STREET         CITY    ZIP    X_COORDINATE    Y_COORDINATE  \\\n",
       "0    4200 E COMPTON BLVD      COMPTON    NaN  6502036.318851  1784710.386787   \n",
       "1     87TH PL & MARY AVE  LOS ANGELES  90002  6485923.034227  1807271.256784   \n",
       "2  89TH ST & BUDLONG AVE  LOS ANGELES  90044  6471939.597934  1806826.283609   \n",
       "3        1700 W 125TH ST  LOS ANGELES    NaN  6468088.913785  1793122.916439   \n",
       "4      3400 N PACIFIC PL   LONG BEACH  90806  6498735.354605  1763535.609049   \n",
       "\n",
       "      INCIDENT_ID  REPORTING_DISTRICT   SEQ    UNIT_ID          UNIT_NAME  \\\n",
       "0  016-05102-2851                2851  5102  CA0190042            COMPTON   \n",
       "1  016-06224-2174                2174  6224  CA01900V3            CENTURY   \n",
       "2  016-03565-0370                 370  3565  CA0190003  SOUTH LOS ANGELES   \n",
       "3  016-03507-0377                 377  3507  CA0190003  SOUTH LOS ANGELES   \n",
       "4  016-01878-6009                6009  1878  CA0190031   TRANSIT SERV BUR   \n",
       "\n",
       "  DELETED  \n",
       "0       N  \n",
       "1       N  \n",
       "2       N  \n",
       "3       N  \n",
       "4       N  "
      ]
     },
     "execution_count": 69,
     "metadata": {},
     "output_type": "execute_result"
    }
   ],
   "source": [
    "crime_data.head()\n",
    "# x,y coordinates seem to be State Plane 5 meters\n",
    "# need to project the Twitter data"
   ]
  },
  {
   "cell_type": "code",
   "execution_count": 29,
   "metadata": {
    "collapsed": false
   },
   "outputs": [],
   "source": [
    "import stateplane"
   ]
  },
  {
   "cell_type": "code",
   "execution_count": 51,
   "metadata": {
    "collapsed": false
   },
   "outputs": [],
   "source": [
    "tweet_coord = map(lambda x: \n",
    "                   stateplane.from_lonlat(x['coordinates']['coordinates'][0],\n",
    "                                          x['coordinates']['coordinates'][1],\n",
    "                                          epsg='26945'), all_tweets) # state plane 5"
   ]
  },
  {
   "cell_type": "code",
   "execution_count": null,
   "metadata": {
    "collapsed": true
   },
   "outputs": [],
   "source": [
    "# Tweet aggregation"
   ]
  }
 ],
 "metadata": {
  "kernelspec": {
   "display_name": "Python 2",
   "language": "python",
   "name": "python2"
  },
  "language_info": {
   "codemirror_mode": {
    "name": "ipython",
    "version": 2
   },
   "file_extension": ".py",
   "mimetype": "text/x-python",
   "name": "python",
   "nbconvert_exporter": "python",
   "pygments_lexer": "ipython2",
   "version": "2.7.11"
  }
 },
 "nbformat": 4,
 "nbformat_minor": 0
}
